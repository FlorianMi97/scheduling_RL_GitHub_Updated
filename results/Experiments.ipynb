{
 "cells": [
  {
   "attachments": {},
   "cell_type": "markdown",
   "metadata": {},
   "source": [
    "Using Julia and our own package"
   ]
  },
  {
   "cell_type": "code",
   "execution_count": null,
   "metadata": {},
   "outputs": [],
   "source": [
    "using StatsPlots\n",
    "using Flux\n",
    "using ParameterSchedulers\n",
    "using SchedulingRL\n",
    "\n",
    "# set up problem\n",
    "Env = createenv(as = \"AIM\", instanceName = \"lhmhlh-0_ii_Expo5\")\n",
    "\n",
    "# setup test instances\n",
    "testenvs = [Dict(\"layout\" => \"Flow_shops\" ,\n",
    "                    \"instancetype\" => \"benchmark\" ,\n",
    "                    \"instancesettings\" => \"base_setting\",\n",
    "                    \"datatype\" => \"data_ii\",\n",
    "                    \"instancename\" =>\"lhmhlh-0_ii_Expo5\")]"
   ]
  },
  {
   "attachments": {},
   "cell_type": "markdown",
   "metadata": {},
   "source": [
    "Training with approximator: E2E"
   ]
  },
  {
   "cell_type": "code",
   "execution_count": 3,
   "metadata": {},
   "outputs": [],
   "source": [
    "AgentE2E = createagent(\n",
    "    createE2E( \n",
    "            ActorCritic(\n",
    "                actor = Chain(Dense(statesize(Env) => 300, relu),\n",
    "                        Dense(300 => 300, relu), Dense(300, 300, relu), Dense(300 => actionsize(Env))), # no specified activation function = linear activation\n",
    "                critic = Chain(Dense(statesize(Env) => 300, relu),\n",
    "                        Dense(300 => 300, relu),Dense(300 => 150, relu), Dense(150, 60, relu), Dense(60,1)),\n",
    "                optimizer = Adam(0.0001)),            # no specified activation function = linear activation\n",
    "                [Env],\n",
    "                [],\n",
    "                #lr_scheduler = ParameterSchedulers.Stateful(Inv(λ = 1e-1, γ = 0.2, p = 2)),\n",
    "            critic_loss_weight = 0.05f0,\n",
    "            n_steps=256\n",
    "            )\n",
    "        , \"AIM\")\n",
    "\n",
    "\n",
    "println(\"start E2E training\")\n",
    "trainagent!(AgentE2E, generations = 200, showprogressbar = false, TBlog = true)"
   ]
  },
  {
   "attachments": {},
   "cell_type": "markdown",
   "metadata": {},
   "source": [
    "Store results E2E"
   ]
  },
  {
   "cell_type": "code",
   "execution_count": null,
   "metadata": {},
   "outputs": [],
   "source": [
    "resultsE2E = testagent(AgentE2E,testenvs,100)\n",
    "    \n",
    "println(\"The average PI gap is: \", resultsE2E[6])\n",
    "println(\"The worst gap is: \", resultsE2E[8])\n",
    "println(\"All gaps are: \\n\", resultsE2E[10])"
   ]
  },
  {
   "attachments": {},
   "cell_type": "markdown",
   "metadata": {},
   "source": [
    "Training with approximator: GP"
   ]
  },
  {
   "cell_type": "code",
   "execution_count": null,
   "metadata": {},
   "outputs": [],
   "source": [
    "# train GP\n",
    "AgentGP = createagent(createGP([Env]), \"AIM\")\n",
    "trainagent!(AgentGP,generations = 4)"
   ]
  },
  {
   "attachments": {},
   "cell_type": "markdown",
   "metadata": {},
   "source": [
    "Store the results"
   ]
  },
  {
   "cell_type": "code",
   "execution_count": null,
   "metadata": {},
   "outputs": [],
   "source": [
    "resultsGP = testagent(AgentGP,testenvs,100)\n",
    "    \n",
    "println(\"The average PI gap is: \", resultsGP[6])\n",
    "println(\"The worst gap is: \", resultsGP[8])\n",
    "println(\"All gaps are: \\n\", resultsGP[10])"
   ]
  },
  {
   "attachments": {},
   "cell_type": "markdown",
   "metadata": {},
   "source": [
    "Training with approximator: WPF"
   ]
  },
  {
   "cell_type": "code",
   "execution_count": null,
   "metadata": {},
   "outputs": [],
   "source": [
    "model = Chain(Dense(statesize(Env) => 30, selu),\n",
    "                Dense(30 => 30, selu),)\n",
    "\n",
    "prio = Priorityfunction(\"PT + DD + RO + RW + ON + JS + RF + CT + EW + JWM + ST + NI + NW + SLA + CW + CJW + TT\")\n",
    "# prio = Priorityfunction(\"PT + ON\") to test if arbitrary functions work\n",
    "\n",
    "\n",
    "output = numberweights(prio)\n",
    "AgentWPF = createagent(\n",
    "    createWPF( \n",
    "            ActorCritic(\n",
    "                actor = GaussianNetwork(\n",
    "                    pre = Chain(model,Dense(30 => 30)),\n",
    "                    μ = Chain(Dense(30, output, tanh)),\n",
    "                    σ = Chain(Dense(30, output, sigmoid)),\n",
    "                    ),\n",
    "                critic = Chain(model,Dense(30 => 1))),\n",
    "                [Env],\n",
    "                [],\n",
    "                prio,\n",
    "                masked = false,\n",
    "                lr_scheduler = ParameterSchedulers.Stateful(Inv(λ = 1e-1, γ = 0.2, p = 2))\n",
    "            )\n",
    "        , \"AIM\")\n",
    "\n",
    "trainagent!(AgentWPF,generations = 100)"
   ]
  },
  {
   "attachments": {},
   "cell_type": "markdown",
   "metadata": {},
   "source": [
    "Store results WPF"
   ]
  },
  {
   "cell_type": "code",
   "execution_count": null,
   "metadata": {},
   "outputs": [],
   "source": [
    "resultsWPF = testagent(AgentWPF,testenvs,100)\n",
    "    println(\"The average PI gap is: \", resultsWPF[6])\n",
    "    println(\"The worst gap is: \", resultsWPF[8])\n",
    "    println(\"All gaps are: \\n\", resultsWPF[10])"
   ]
  },
  {
   "attachments": {},
   "cell_type": "markdown",
   "metadata": {},
   "source": [
    "Visualize Results"
   ]
  },
  {
   "cell_type": "code",
   "execution_count": null,
   "metadata": {},
   "outputs": [],
   "source": [
    "using StatsPlots\n",
    "\n",
    "# boxplot with gaps of all 3 models\n",
    "boxplot([resultsGP[10],resultsE2E[10],resultsWPF[10]], \n",
    "    label = [\"GP\" \"E2E\" \"WPF\"],\n",
    "    title = \"Boxplot of gaps\",\n",
    "    ylabel = \"gap\",\n",
    "    xlabel = \"model\")"
   ]
  }
 ],
 "metadata": {
  "kernelspec": {
   "display_name": "Julia 1.9.0",
   "language": "julia",
   "name": "julia-1.9"
  },
  "language_info": {
   "file_extension": ".jl",
   "mimetype": "application/julia",
   "name": "julia",
   "version": "1.9.0"
  },
  "orig_nbformat": 4
 },
 "nbformat": 4,
 "nbformat_minor": 2
}
